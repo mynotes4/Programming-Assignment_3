{
 "cells": [
  {
   "cell_type": "code",
   "execution_count": null,
   "id": "e684f8e3",
   "metadata": {},
   "outputs": [],
   "source": [
    "# 1. Write a Python Program to Check if a Number is Positive, Negative or Zero?\n",
    "a = float(input(\"Enter No \"))\n",
    "if a > 0:\n",
    "    print(\"Positive\")\n",
    "elif a<0:\n",
    "    print(\"Negative\")\n",
    "else:\n",
    "    print(\"Zero\")"
   ]
  },
  {
   "cell_type": "code",
   "execution_count": null,
   "id": "0bf10077",
   "metadata": {},
   "outputs": [],
   "source": [
    "# 2. Write a Python Program to Check if a Number is Odd or Even?\n",
    "a = int(input(\"Enter No \"))\n",
    "if a%2 == 0:\n",
    "    print(\"Even\" )\n",
    "else:\n",
    "    print(\"Odd\")"
   ]
  },
  {
   "cell_type": "code",
   "execution_count": null,
   "id": "7f13f346",
   "metadata": {},
   "outputs": [],
   "source": [
    "# 3. Write a Python Program to Check Leap Year?\n",
    "yy = int(input(\"Enter Year \"))\n",
    "if yy%4 == 0:\n",
    "    print(\"Leap Year\" )\n",
    "else:\n",
    "    print(\"Not Leap Year\")"
   ]
  },
  {
   "cell_type": "code",
   "execution_count": null,
   "id": "c63a3bae",
   "metadata": {},
   "outputs": [],
   "source": [
    "# Write a Python Program to Check Prime Number?\n",
    "n = int(input(\"Enter No \"))\n",
    "flag = 0\n",
    "if n == 1 or n== 0:\n",
    "    print(\"Not prime no \")\n",
    "for i in range(2,int(n/2)):\n",
    "    if n%i == 0:\n",
    "        flag = 1\n",
    "        break\n",
    "if flag == 1:\n",
    "    print(\"Not prime no \")\n",
    "else:\n",
    "    print(\"Prime no \")"
   ]
  },
  {
   "cell_type": "code",
   "execution_count": null,
   "id": "d3bc7b93",
   "metadata": {},
   "outputs": [],
   "source": [
    "# 5. Write a Python Program to Print all Prime Numbers in an Interval of 1-10000?\n",
    "for i in range(1 , 10000+1):\n",
    "    flag = 0\n",
    "    for j in range(2,int(i/2)):\n",
    "        if i%j == 0:\n",
    "            flag = 1\n",
    "            break\n",
    "    if flag == 0:\n",
    "        print(i)\n"
   ]
  },
  {
   "cell_type": "code",
   "execution_count": null,
   "id": "c1adf591",
   "metadata": {},
   "outputs": [],
   "source": []
  }
 ],
 "metadata": {
  "kernelspec": {
   "display_name": "Python 3 (ipykernel)",
   "language": "python",
   "name": "python3"
  },
  "language_info": {
   "codemirror_mode": {
    "name": "ipython",
    "version": 3
   },
   "file_extension": ".py",
   "mimetype": "text/x-python",
   "name": "python",
   "nbconvert_exporter": "python",
   "pygments_lexer": "ipython3",
   "version": "3.9.12"
  }
 },
 "nbformat": 4,
 "nbformat_minor": 5
}
